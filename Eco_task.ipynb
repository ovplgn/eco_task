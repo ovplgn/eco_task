{
 "cells": [
  {
   "cell_type": "markdown",
   "metadata": {},
   "source": [
    "# Задание 10.\n",
    "\n",
    "Вам предоставлен набор данных по качеству воздуха в китайских городах в виде csv файлов.\n",
    "Основная метрика, которая показывает качество воздуха - PM25(<a href='https://www.ncbi.nlm.nih.gov/pmc/articles/PMC4740125/'>подробнее о PM25</a>), указана в колонках, которые начинаются на PM_.\n",
    "Остальные столбцы содержат либо данные о времени, в которое были произведены измерения, либо данные о погоде в этот момент. DEWP - точка росы, HUMI - влажность, PRES - давление, TEMP - температура, cbwd - направление ветра, Iws - его скорость, precipation - осадки, Iprec - накопленные осадки.\n",
    "\n",
    "Для выполнения задания необходимо ответить на вопросы по данным, заполнив ячейки ноутбука. Сам ноутбук необходимо выложить в виде отдельного репозитория на github. Ссылку для клонирования репозитория необходимо приложить в решение задания."
   ]
  },
  {
   "cell_type": "markdown",
   "metadata": {},
   "source": [
    "## 1. Загрузите в виде DataFrame набор данных по качеству воздуха Пекина\n",
    "Ссылка на набор данных: https://disk.yandex.ru/d/1UKJoV1ULW1NLQ"
   ]
  },
  {
   "cell_type": "code",
   "execution_count": 25,
   "metadata": {},
   "outputs": [],
   "source": [
    "import numpy as np\n",
    "import pandas as pd\n",
    "import datetime\n",
    "df = pd.read_csv('BeijingPM20100101_20151231.csv')"
   ]
  },
  {
   "cell_type": "markdown",
   "metadata": {},
   "source": [
    "## 2. Сколько всего строк находится в наборе данных?"
   ]
  },
  {
   "cell_type": "code",
   "execution_count": 3,
   "metadata": {
    "pycharm": {
     "name": "#%%\n"
    }
   },
   "outputs": [
    {
     "name": "stdout",
     "output_type": "stream",
     "text": [
      "Количество строк:  52584\n"
     ]
    }
   ],
   "source": [
    "print('Количество строк: ',len(df.index))"
   ]
  },
  {
   "cell_type": "markdown",
   "metadata": {},
   "source": [
    "## 3. Сколько измерений уровня загрязнения воздуха находится в наборе данных?"
   ]
  },
  {
   "cell_type": "code",
   "execution_count": 14,
   "metadata": {
    "pycharm": {
     "name": "#%%\n"
    }
   },
   "outputs": [],
   "source": [
    "# Четыре столбца: PM_Dongsi,PM_Dongsihuan,PM_Nongzhanguan,PM_US Post увидел при предварительном осмотре датасета \n"
   ]
  },
  {
   "cell_type": "markdown",
   "metadata": {},
   "source": [
    "## 4. Введите столбец среднего качества воздуха PM_mean с усреднением показаний со всех станций слежения."
   ]
  },
  {
   "cell_type": "code",
   "execution_count": 6,
   "metadata": {
    "pycharm": {
     "name": "#%%\n"
    }
   },
   "outputs": [
    {
     "data": {
      "text/html": [
       "<div>\n",
       "<style scoped>\n",
       "    .dataframe tbody tr th:only-of-type {\n",
       "        vertical-align: middle;\n",
       "    }\n",
       "\n",
       "    .dataframe tbody tr th {\n",
       "        vertical-align: top;\n",
       "    }\n",
       "\n",
       "    .dataframe thead th {\n",
       "        text-align: right;\n",
       "    }\n",
       "</style>\n",
       "<table border=\"1\" class=\"dataframe\">\n",
       "  <thead>\n",
       "    <tr style=\"text-align: right;\">\n",
       "      <th></th>\n",
       "      <th>No</th>\n",
       "      <th>year</th>\n",
       "      <th>month</th>\n",
       "      <th>day</th>\n",
       "      <th>hour</th>\n",
       "      <th>season</th>\n",
       "      <th>PM_Dongsi</th>\n",
       "      <th>PM_Dongsihuan</th>\n",
       "      <th>PM_Nongzhanguan</th>\n",
       "      <th>PM_US Post</th>\n",
       "      <th>DEWP</th>\n",
       "      <th>HUMI</th>\n",
       "      <th>PRES</th>\n",
       "      <th>TEMP</th>\n",
       "      <th>cbwd</th>\n",
       "      <th>Iws</th>\n",
       "      <th>precipitation</th>\n",
       "      <th>Iprec</th>\n",
       "      <th>PM_mean</th>\n",
       "    </tr>\n",
       "  </thead>\n",
       "  <tbody>\n",
       "    <tr>\n",
       "      <th>0</th>\n",
       "      <td>1</td>\n",
       "      <td>2010</td>\n",
       "      <td>1</td>\n",
       "      <td>1</td>\n",
       "      <td>0</td>\n",
       "      <td>4</td>\n",
       "      <td>NaN</td>\n",
       "      <td>NaN</td>\n",
       "      <td>NaN</td>\n",
       "      <td>NaN</td>\n",
       "      <td>-21.0</td>\n",
       "      <td>43.0</td>\n",
       "      <td>1021.0</td>\n",
       "      <td>-11.0</td>\n",
       "      <td>NW</td>\n",
       "      <td>1.79</td>\n",
       "      <td>0.0</td>\n",
       "      <td>0.0</td>\n",
       "      <td>NaN</td>\n",
       "    </tr>\n",
       "    <tr>\n",
       "      <th>1</th>\n",
       "      <td>2</td>\n",
       "      <td>2010</td>\n",
       "      <td>1</td>\n",
       "      <td>1</td>\n",
       "      <td>1</td>\n",
       "      <td>4</td>\n",
       "      <td>NaN</td>\n",
       "      <td>NaN</td>\n",
       "      <td>NaN</td>\n",
       "      <td>NaN</td>\n",
       "      <td>-21.0</td>\n",
       "      <td>47.0</td>\n",
       "      <td>1020.0</td>\n",
       "      <td>-12.0</td>\n",
       "      <td>NW</td>\n",
       "      <td>4.92</td>\n",
       "      <td>0.0</td>\n",
       "      <td>0.0</td>\n",
       "      <td>NaN</td>\n",
       "    </tr>\n",
       "    <tr>\n",
       "      <th>2</th>\n",
       "      <td>3</td>\n",
       "      <td>2010</td>\n",
       "      <td>1</td>\n",
       "      <td>1</td>\n",
       "      <td>2</td>\n",
       "      <td>4</td>\n",
       "      <td>NaN</td>\n",
       "      <td>NaN</td>\n",
       "      <td>NaN</td>\n",
       "      <td>NaN</td>\n",
       "      <td>-21.0</td>\n",
       "      <td>43.0</td>\n",
       "      <td>1019.0</td>\n",
       "      <td>-11.0</td>\n",
       "      <td>NW</td>\n",
       "      <td>6.71</td>\n",
       "      <td>0.0</td>\n",
       "      <td>0.0</td>\n",
       "      <td>NaN</td>\n",
       "    </tr>\n",
       "    <tr>\n",
       "      <th>3</th>\n",
       "      <td>4</td>\n",
       "      <td>2010</td>\n",
       "      <td>1</td>\n",
       "      <td>1</td>\n",
       "      <td>3</td>\n",
       "      <td>4</td>\n",
       "      <td>NaN</td>\n",
       "      <td>NaN</td>\n",
       "      <td>NaN</td>\n",
       "      <td>NaN</td>\n",
       "      <td>-21.0</td>\n",
       "      <td>55.0</td>\n",
       "      <td>1019.0</td>\n",
       "      <td>-14.0</td>\n",
       "      <td>NW</td>\n",
       "      <td>9.84</td>\n",
       "      <td>0.0</td>\n",
       "      <td>0.0</td>\n",
       "      <td>NaN</td>\n",
       "    </tr>\n",
       "    <tr>\n",
       "      <th>4</th>\n",
       "      <td>5</td>\n",
       "      <td>2010</td>\n",
       "      <td>1</td>\n",
       "      <td>1</td>\n",
       "      <td>4</td>\n",
       "      <td>4</td>\n",
       "      <td>NaN</td>\n",
       "      <td>NaN</td>\n",
       "      <td>NaN</td>\n",
       "      <td>NaN</td>\n",
       "      <td>-20.0</td>\n",
       "      <td>51.0</td>\n",
       "      <td>1018.0</td>\n",
       "      <td>-12.0</td>\n",
       "      <td>NW</td>\n",
       "      <td>12.97</td>\n",
       "      <td>0.0</td>\n",
       "      <td>0.0</td>\n",
       "      <td>NaN</td>\n",
       "    </tr>\n",
       "    <tr>\n",
       "      <th>...</th>\n",
       "      <td>...</td>\n",
       "      <td>...</td>\n",
       "      <td>...</td>\n",
       "      <td>...</td>\n",
       "      <td>...</td>\n",
       "      <td>...</td>\n",
       "      <td>...</td>\n",
       "      <td>...</td>\n",
       "      <td>...</td>\n",
       "      <td>...</td>\n",
       "      <td>...</td>\n",
       "      <td>...</td>\n",
       "      <td>...</td>\n",
       "      <td>...</td>\n",
       "      <td>...</td>\n",
       "      <td>...</td>\n",
       "      <td>...</td>\n",
       "      <td>...</td>\n",
       "      <td>...</td>\n",
       "    </tr>\n",
       "    <tr>\n",
       "      <th>52579</th>\n",
       "      <td>52580</td>\n",
       "      <td>2015</td>\n",
       "      <td>12</td>\n",
       "      <td>31</td>\n",
       "      <td>19</td>\n",
       "      <td>4</td>\n",
       "      <td>140.0</td>\n",
       "      <td>157.0</td>\n",
       "      <td>122.0</td>\n",
       "      <td>133.0</td>\n",
       "      <td>-8.0</td>\n",
       "      <td>68.0</td>\n",
       "      <td>1031.0</td>\n",
       "      <td>-3.0</td>\n",
       "      <td>SE</td>\n",
       "      <td>7.14</td>\n",
       "      <td>0.0</td>\n",
       "      <td>0.0</td>\n",
       "      <td>138.00</td>\n",
       "    </tr>\n",
       "    <tr>\n",
       "      <th>52580</th>\n",
       "      <td>52581</td>\n",
       "      <td>2015</td>\n",
       "      <td>12</td>\n",
       "      <td>31</td>\n",
       "      <td>20</td>\n",
       "      <td>4</td>\n",
       "      <td>157.0</td>\n",
       "      <td>199.0</td>\n",
       "      <td>149.0</td>\n",
       "      <td>169.0</td>\n",
       "      <td>-8.0</td>\n",
       "      <td>63.0</td>\n",
       "      <td>1030.0</td>\n",
       "      <td>-2.0</td>\n",
       "      <td>SE</td>\n",
       "      <td>8.03</td>\n",
       "      <td>0.0</td>\n",
       "      <td>0.0</td>\n",
       "      <td>168.50</td>\n",
       "    </tr>\n",
       "    <tr>\n",
       "      <th>52581</th>\n",
       "      <td>52582</td>\n",
       "      <td>2015</td>\n",
       "      <td>12</td>\n",
       "      <td>31</td>\n",
       "      <td>21</td>\n",
       "      <td>4</td>\n",
       "      <td>171.0</td>\n",
       "      <td>231.0</td>\n",
       "      <td>196.0</td>\n",
       "      <td>203.0</td>\n",
       "      <td>-10.0</td>\n",
       "      <td>73.0</td>\n",
       "      <td>1030.0</td>\n",
       "      <td>-6.0</td>\n",
       "      <td>NE</td>\n",
       "      <td>0.89</td>\n",
       "      <td>0.0</td>\n",
       "      <td>0.0</td>\n",
       "      <td>200.25</td>\n",
       "    </tr>\n",
       "    <tr>\n",
       "      <th>52582</th>\n",
       "      <td>52583</td>\n",
       "      <td>2015</td>\n",
       "      <td>12</td>\n",
       "      <td>31</td>\n",
       "      <td>22</td>\n",
       "      <td>4</td>\n",
       "      <td>204.0</td>\n",
       "      <td>242.0</td>\n",
       "      <td>221.0</td>\n",
       "      <td>212.0</td>\n",
       "      <td>-10.0</td>\n",
       "      <td>73.0</td>\n",
       "      <td>1030.0</td>\n",
       "      <td>-6.0</td>\n",
       "      <td>NE</td>\n",
       "      <td>1.78</td>\n",
       "      <td>0.0</td>\n",
       "      <td>0.0</td>\n",
       "      <td>219.75</td>\n",
       "    </tr>\n",
       "    <tr>\n",
       "      <th>52583</th>\n",
       "      <td>52584</td>\n",
       "      <td>2015</td>\n",
       "      <td>12</td>\n",
       "      <td>31</td>\n",
       "      <td>23</td>\n",
       "      <td>4</td>\n",
       "      <td>NaN</td>\n",
       "      <td>NaN</td>\n",
       "      <td>NaN</td>\n",
       "      <td>235.0</td>\n",
       "      <td>-9.0</td>\n",
       "      <td>79.0</td>\n",
       "      <td>1029.0</td>\n",
       "      <td>-6.0</td>\n",
       "      <td>NE</td>\n",
       "      <td>2.67</td>\n",
       "      <td>0.0</td>\n",
       "      <td>0.0</td>\n",
       "      <td>235.00</td>\n",
       "    </tr>\n",
       "  </tbody>\n",
       "</table>\n",
       "<p>52584 rows × 19 columns</p>\n",
       "</div>"
      ],
      "text/plain": [
       "          No  year  month  day  hour  season  PM_Dongsi  PM_Dongsihuan  \\\n",
       "0          1  2010      1    1     0       4        NaN            NaN   \n",
       "1          2  2010      1    1     1       4        NaN            NaN   \n",
       "2          3  2010      1    1     2       4        NaN            NaN   \n",
       "3          4  2010      1    1     3       4        NaN            NaN   \n",
       "4          5  2010      1    1     4       4        NaN            NaN   \n",
       "...      ...   ...    ...  ...   ...     ...        ...            ...   \n",
       "52579  52580  2015     12   31    19       4      140.0          157.0   \n",
       "52580  52581  2015     12   31    20       4      157.0          199.0   \n",
       "52581  52582  2015     12   31    21       4      171.0          231.0   \n",
       "52582  52583  2015     12   31    22       4      204.0          242.0   \n",
       "52583  52584  2015     12   31    23       4        NaN            NaN   \n",
       "\n",
       "       PM_Nongzhanguan  PM_US Post  DEWP  HUMI    PRES  TEMP cbwd    Iws  \\\n",
       "0                  NaN         NaN -21.0  43.0  1021.0 -11.0   NW   1.79   \n",
       "1                  NaN         NaN -21.0  47.0  1020.0 -12.0   NW   4.92   \n",
       "2                  NaN         NaN -21.0  43.0  1019.0 -11.0   NW   6.71   \n",
       "3                  NaN         NaN -21.0  55.0  1019.0 -14.0   NW   9.84   \n",
       "4                  NaN         NaN -20.0  51.0  1018.0 -12.0   NW  12.97   \n",
       "...                ...         ...   ...   ...     ...   ...  ...    ...   \n",
       "52579            122.0       133.0  -8.0  68.0  1031.0  -3.0   SE   7.14   \n",
       "52580            149.0       169.0  -8.0  63.0  1030.0  -2.0   SE   8.03   \n",
       "52581            196.0       203.0 -10.0  73.0  1030.0  -6.0   NE   0.89   \n",
       "52582            221.0       212.0 -10.0  73.0  1030.0  -6.0   NE   1.78   \n",
       "52583              NaN       235.0  -9.0  79.0  1029.0  -6.0   NE   2.67   \n",
       "\n",
       "       precipitation  Iprec  PM_mean  \n",
       "0                0.0    0.0      NaN  \n",
       "1                0.0    0.0      NaN  \n",
       "2                0.0    0.0      NaN  \n",
       "3                0.0    0.0      NaN  \n",
       "4                0.0    0.0      NaN  \n",
       "...              ...    ...      ...  \n",
       "52579            0.0    0.0   138.00  \n",
       "52580            0.0    0.0   168.50  \n",
       "52581            0.0    0.0   200.25  \n",
       "52582            0.0    0.0   219.75  \n",
       "52583            0.0    0.0   235.00  \n",
       "\n",
       "[52584 rows x 19 columns]"
      ]
     },
     "execution_count": 6,
     "metadata": {},
     "output_type": "execute_result"
    }
   ],
   "source": [
    "cols = ['PM_Dongsi','PM_Dongsihuan','PM_Nongzhanguan', 'PM_US Post' ]\n",
    "df['PM_mean'] = df[cols].mean(axis=1)\n",
    "df"
   ]
  },
  {
   "cell_type": "markdown",
   "metadata": {},
   "source": [
    "## 5. Какое направление ветра преобладает в Пекине?"
   ]
  },
  {
   "cell_type": "code",
   "execution_count": 13,
   "metadata": {
    "pycharm": {
     "name": "#%%\n"
    }
   },
   "outputs": [
    {
     "name": "stdout",
     "output_type": "stream",
     "text": [
      "SE    18272\n",
      "NW    16717\n",
      "cv    11412\n",
      "NE     6178\n",
      "Name: cbwd, dtype: int64\n"
     ]
    }
   ],
   "source": [
    "cbwd = df['cbwd'].value_counts()\n",
    "print(cbwd) #на 1 месте SE - Юго-западнное направление"
   ]
  },
  {
   "cell_type": "markdown",
   "metadata": {},
   "source": [
    "## 6. В какой день качество воздуха является наихудшим(самая большая концентрация частиц)? Вывести дату в типе данных datetime стандартной библиотеки Python."
   ]
  },
  {
   "cell_type": "code",
   "execution_count": 51,
   "metadata": {
    "pycharm": {
     "name": "#%%\n"
    }
   },
   "outputs": [
    {
     "name": "stdout",
     "output_type": "stream",
     "text": [
      "2012-01-23\n"
     ]
    }
   ],
   "source": [
    "\n",
    "df['PM_mean'] = df[cols].mean(axis=1)\n",
    "#bad =   df['PM_mean'].max()\n",
    "#print(df.index[df['PM_mean'] == bad.tolist())\n",
    "#bad = df['PM_mean'].index('994')\n",
    "bad = df.loc[df['PM_mean'].idxmax()][['year', 'month', 'day']]\n",
    "date = datetime.date(bad.loc['year'],bad.loc['month'],bad.loc['day'])\n",
    "print(date)\n"
   ]
  },
  {
   "cell_type": "markdown",
   "metadata": {},
   "source": [
    "## 7. Какой из сезонов в Пекине в среднем наименее неблагоприятный для легких за последние 2 года наблюдений?"
   ]
  },
  {
   "cell_type": "code",
   "execution_count": 56,
   "metadata": {
    "pycharm": {
     "name": "#%%\n"
    }
   },
   "outputs": [
    {
     "data": {
      "text/html": [
       "<div>\n",
       "<style scoped>\n",
       "    .dataframe tbody tr th:only-of-type {\n",
       "        vertical-align: middle;\n",
       "    }\n",
       "\n",
       "    .dataframe tbody tr th {\n",
       "        vertical-align: top;\n",
       "    }\n",
       "\n",
       "    .dataframe thead th {\n",
       "        text-align: right;\n",
       "    }\n",
       "</style>\n",
       "<table border=\"1\" class=\"dataframe\">\n",
       "  <thead>\n",
       "    <tr style=\"text-align: right;\">\n",
       "      <th></th>\n",
       "      <th>PM_mean</th>\n",
       "    </tr>\n",
       "    <tr>\n",
       "      <th>season</th>\n",
       "      <th></th>\n",
       "    </tr>\n",
       "  </thead>\n",
       "  <tbody>\n",
       "    <tr>\n",
       "      <th>1</th>\n",
       "      <td>10749</td>\n",
       "    </tr>\n",
       "    <tr>\n",
       "      <th>2</th>\n",
       "      <td>21401</td>\n",
       "    </tr>\n",
       "    <tr>\n",
       "      <th>3</th>\n",
       "      <td>6314</td>\n",
       "    </tr>\n",
       "    <tr>\n",
       "      <th>4</th>\n",
       "      <td>9436</td>\n",
       "    </tr>\n",
       "  </tbody>\n",
       "</table>\n",
       "</div>"
      ],
      "text/plain": [
       "        PM_mean\n",
       "season         \n",
       "1         10749\n",
       "2         21401\n",
       "3          6314\n",
       "4          9436"
      ]
     },
     "execution_count": 56,
     "metadata": {},
     "output_type": "execute_result"
    }
   ],
   "source": [
    "#последнипй год в датасете - 2015\n",
    "period = df.loc[df['year'] >= 2013]\n",
    "period = df[['season', 'PM_mean']]\n",
    "period.groupby('season').idxmin() # из средних показателей видно, что наихудшие показатели в сезоне №2"
   ]
  },
  {
   "cell_type": "markdown",
   "metadata": {},
   "source": [
    "## 8. Коррелирует ли влажность с качеством воздуха?\n",
    "Можно воспользоваться корреляцией Пирсона из numpy, а также встроенными функциями Pandas."
   ]
  },
  {
   "cell_type": "code",
   "execution_count": 75,
   "metadata": {
    "pycharm": {
     "name": "#%%\n"
    }
   },
   "outputs": [
    {
     "name": "stdout",
     "output_type": "stream",
     "text": [
      "0.4241147482429608\n"
     ]
    }
   ],
   "source": [
    "correlation = df.corr(method='pearson')['HUMI']['PM_mean']\n",
    "print(correlation) #наблюдается положительная корреляция на среднем уровне ~0.42"
   ]
  },
  {
   "cell_type": "markdown",
   "metadata": {},
   "source": [
    "## 9. Какой из сезонов в Пекине самый дождливый(в среднем по накоплению осадков)?"
   ]
  },
  {
   "cell_type": "code",
   "execution_count": 77,
   "metadata": {
    "pycharm": {
     "name": "#%%\n"
    }
   },
   "outputs": [
    {
     "name": "stdout",
     "output_type": "stream",
     "text": [
      "            Iprec\n",
      "season           \n",
      "1        0.131253\n",
      "2        0.797706\n",
      "3       77.296645\n",
      "4        0.028075\n"
     ]
    }
   ],
   "source": [
    "iprec = df[['season', 'Iprec']].groupby('season').mean()\n",
    "print(iprec) #Сезон №3 - вырпаженно самый дождливый."
   ]
  },
  {
   "cell_type": "markdown",
   "metadata": {},
   "source": [
    "## 10. Становится ли качество воздуха во время дождя лучше, чем оно было сразу перед дождем?"
   ]
  },
  {
   "cell_type": "code",
   "execution_count": 95,
   "metadata": {
    "pycharm": {
     "name": "#%%\n"
    }
   },
   "outputs": [
    {
     "name": "stdout",
     "output_type": "stream",
     "text": [
      "Средняя оценка качества воздуха до дождя PM_mean    78.386661\n",
      "dtype: float64\n",
      "Средняя оценка качества во время дождя PM_mean    74.579961\n",
      "dtype: float64\n",
      "Во время дождя:\n",
      " PM_mean    74.579961\n",
      "dtype: float64 \n",
      "\n",
      "Перед дождём:\n",
      " PM_mean    78.386661\n",
      "dtype: float64 \n",
      "\n",
      "Проанализировав показатели качества можно понять, что в среднем качество воздуха во время дождя становится лучше, чем без него\n"
     ]
    }
   ],
   "source": [
    "before_rain = df[['PM_mean', 'precipitation']].loc[df['precipitation'] == 0].loc[df['precipitation'].shift(1) > 0].dropna().mean()[:-1]\n",
    "print('Средняя оценка качества воздуха до дождя', before_rain)\n",
    "rain = df[['PM_mean', 'precipitation']].loc[df['precipitation'] > 0].dropna().mean()[:-1]\n",
    "print('Средняя оценка качества во время дождя', rain)\n",
    "# средняя оценка измерений выше до дождя, а это значит, что с наступлением дождя воздух становится чище."
   ]
  },
  {
   "cell_type": "code",
   "execution_count": null,
   "metadata": {},
   "outputs": [],
   "source": []
  }
 ],
 "metadata": {
  "kernelspec": {
   "display_name": "Python 3",
   "language": "python",
   "name": "python3"
  },
  "language_info": {
   "codemirror_mode": {
    "name": "ipython",
    "version": 3
   },
   "file_extension": ".py",
   "mimetype": "text/x-python",
   "name": "python",
   "nbconvert_exporter": "python",
   "pygments_lexer": "ipython3",
   "version": "3.8.5"
  }
 },
 "nbformat": 4,
 "nbformat_minor": 1
}
